{
  "nbformat": 4,
  "nbformat_minor": 0,
  "metadata": {
    "colab": {
      "provenance": []
    },
    "kernelspec": {
      "name": "python3",
      "display_name": "Python 3"
    },
    "language_info": {
      "name": "python"
    }
  },
  "cells": [
    {
      "cell_type": "code",
      "execution_count": 1,
      "metadata": {
        "id": "JVso41Q4dMGP",
        "colab": {
          "base_uri": "https://localhost:8080/"
        },
        "outputId": "1057b9f0-e846-4ebb-82a2-a3221a800801"
      },
      "outputs": [
        {
          "output_type": "stream",
          "name": "stdout",
          "text": [
            "Collecting scikit-fuzzy\n",
            "  Downloading scikit-fuzzy-0.4.2.tar.gz (993 kB)\n",
            "\u001b[?25l     \u001b[90m━━━━━━━━━━━━━━━━━━━━━━━━━━━━━━━━━━━━━━━━\u001b[0m \u001b[32m0.0/994.0 kB\u001b[0m \u001b[31m?\u001b[0m eta \u001b[36m-:--:--\u001b[0m\r\u001b[2K     \u001b[91m━━━━━━━━━\u001b[0m\u001b[90m╺\u001b[0m\u001b[90m━━━━━━━━━━━━━━━━━━━━━━━━━━━━━━\u001b[0m \u001b[32m225.3/994.0 kB\u001b[0m \u001b[31m6.6 MB/s\u001b[0m eta \u001b[36m0:00:01\u001b[0m\r\u001b[2K     \u001b[91m━━━━━━━━━━━━━━━━━━━━━━━\u001b[0m\u001b[90m╺\u001b[0m\u001b[90m━━━━━━━━━━━━━━━━\u001b[0m \u001b[32m583.7/994.0 kB\u001b[0m \u001b[31m8.5 MB/s\u001b[0m eta \u001b[36m0:00:01\u001b[0m\r\u001b[2K     \u001b[91m━━━━━━━━━━━━━━━━━━━━━━━━━━━━━━━━━━━━━━━\u001b[0m\u001b[91m╸\u001b[0m \u001b[32m993.3/994.0 kB\u001b[0m \u001b[31m9.6 MB/s\u001b[0m eta \u001b[36m0:00:01\u001b[0m\r\u001b[2K     \u001b[90m━━━━━━━━━━━━━━━━━━━━━━━━━━━━━━━━━━━━━━━━\u001b[0m \u001b[32m994.0/994.0 kB\u001b[0m \u001b[31m8.6 MB/s\u001b[0m eta \u001b[36m0:00:00\u001b[0m\n",
            "\u001b[?25h  Preparing metadata (setup.py) ... \u001b[?25l\u001b[?25hdone\n",
            "Requirement already satisfied: numpy>=1.6.0 in /usr/local/lib/python3.10/dist-packages (from scikit-fuzzy) (1.25.2)\n",
            "Requirement already satisfied: scipy>=0.9.0 in /usr/local/lib/python3.10/dist-packages (from scikit-fuzzy) (1.11.4)\n",
            "Requirement already satisfied: networkx>=1.9.0 in /usr/local/lib/python3.10/dist-packages (from scikit-fuzzy) (3.3)\n",
            "Building wheels for collected packages: scikit-fuzzy\n",
            "  Building wheel for scikit-fuzzy (setup.py) ... \u001b[?25l\u001b[?25hdone\n",
            "  Created wheel for scikit-fuzzy: filename=scikit_fuzzy-0.4.2-py3-none-any.whl size=894078 sha256=22be2cbf172576718dc23007d2459036dab2f52461cf928db2e3389385bd7c43\n",
            "  Stored in directory: /root/.cache/pip/wheels/4f/86/1b/dfd97134a2c8313e519bcebd95d3fedc7be7944db022094bc8\n",
            "Successfully built scikit-fuzzy\n",
            "Installing collected packages: scikit-fuzzy\n",
            "Successfully installed scikit-fuzzy-0.4.2\n",
            "Collecting paho-mqtt\n",
            "  Downloading paho_mqtt-2.1.0-py3-none-any.whl (67 kB)\n",
            "\u001b[2K     \u001b[90m━━━━━━━━━━━━━━━━━━━━━━━━━━━━━━━━━━━━━━━━\u001b[0m \u001b[32m67.2/67.2 kB\u001b[0m \u001b[31m3.2 MB/s\u001b[0m eta \u001b[36m0:00:00\u001b[0m\n",
            "\u001b[?25hInstalling collected packages: paho-mqtt\n",
            "Successfully installed paho-mqtt-2.1.0\n",
            "Collecting python-dotenv\n",
            "  Downloading python_dotenv-1.0.1-py3-none-any.whl (19 kB)\n",
            "Installing collected packages: python-dotenv\n",
            "Successfully installed python-dotenv-1.0.1\n"
          ]
        }
      ],
      "source": [
        "!pip install scikit-fuzzy\n",
        "!pip install paho-mqtt\n",
        "!pip install python-dotenv"
      ]
    },
    {
      "cell_type": "code",
      "source": [
        "import os\n",
        "from dotenv import load_dotenv\n",
        "import re                       # Suporte para reconhecimento de expressões regulares.\n",
        "import numpy as np              # Suporte para arrays e operações matemáticas.\n",
        "import pandas as pd             # Suporte para manipulação de DataFrames.\n",
        "import skfuzzy as fuzzy         # Suporte para operação com Lógica Fuzzy.\n",
        "from tabulate import tabulate   # Suporte para manipulação de Tabelas.\n",
        "import skfuzzy.control as ctrl  # Suporte para manipulação de Sistemas Fuzzy.\n",
        "import matplotlib.pyplot as plt # Suporte para visualização de gráficos.\n",
        "import paho.mqtt.client as paho\n",
        "from paho import mqtt\n"
      ],
      "metadata": {
        "id": "VZkGAq0ddRSZ"
      },
      "execution_count": 2,
      "outputs": []
    },
    {
      "cell_type": "code",
      "source": [
        "# Especificar o caminho do arquivo .env\n",
        "dotenv_path = 'Variables.env'\n",
        "if not os.path.exists(dotenv_path):\n",
        "    raise FileNotFoundError(f\"Arquivo {dotenv_path} não encontrado.\")\n",
        "\n",
        "load_dotenv(dotenv_path)\n",
        "\n",
        "# Obtém as variáveis de ambiente - Segurança adicional para evitar o vazamento das credenciais em texto claro\n",
        "mqtt_username = os.getenv('MQTT_USERNAME')\n",
        "mqtt_password = os.getenv('MQTT_PASSWORD')\n",
        "mqtt_url = os.getenv('MQTT_URL')\n",
        "mqtt_port = os.getenv('MQTT_PORT')\n",
        "\n",
        "print(mqtt_username, mqtt_password, mqtt_url, mqtt_port)\n",
        "# Verificar se todas as variáveis de ambiente foram carregadas corretamente\n",
        "if not all([mqtt_username, mqtt_password, mqtt_url, mqtt_port]):\n",
        "    raise ValueError(\"Uma ou mais variáveis de ambiente não foram carregadas corretamente.\")\n",
        "\n",
        "mqtt_port = int(mqtt_port)  # Converter para inteiro\n",
        "\n",
        "# Definindo callbacks para diferentes eventos para ver se funciona, imprimir a mensagem etc.\n",
        "def on_connect(client, userdata, flags, rc, properties=None):\n",
        "    if rc == 0:\n",
        "        print(\"Conexão estabelecida com sucesso!\")\n",
        "    else:\n",
        "        print(\"CONNACK received with code %s.\" % rc)\n",
        "\n",
        "def on_publish(client, userdata, mid, properties=None):\n",
        "    print(f\"Publicação realizada com sucesso! (mid={mid})\")\n",
        "\n",
        "# Com este callback você pode ver se sua publicação foi bem-sucedida\n",
        "# Imprimir qual tópico foi inscrito\n",
        "def on_subscribe(client, userdata, mid, granted_qos, properties=None):\n",
        "    print(\"Subscribed: \" + str(mid) + \" \" + str(granted_qos))\n",
        "\n",
        "# Imprimir mensagem, útil para verificar se foi bem-sucedido\n",
        "def on_message(client, userdata, msg):\n",
        "    print(msg.topic + \" \" + str(msg.qos) + \" \" + str(msg.payload))\n",
        "\n",
        "client = paho.Client(client_id=\"\", userdata=None, protocol=paho.MQTTv5)\n",
        "client.on_connect = on_connect\n",
        "\n",
        "# Habilita o TLS para uma conexão segura (diferencial)\n",
        "client.tls_set(tls_version=mqtt.client.ssl.PROTOCOL_TLS)\n",
        "\n",
        "# Configurar nome de usuário e senha\n",
        "client.username_pw_set(mqtt_username, mqtt_password)\n",
        "# Conectar ao HiveMQ Cloud na porta especificada\n",
        "try:\n",
        "    client.connect(mqtt_url, mqtt_port)\n",
        "except Exception as e:\n",
        "    print(f\"Erro ao conectar: {e}\")\n",
        "\n",
        "client.publish(\"pudim\", payload=\"clear\", qos=1)\n",
        "# Configurar callbacks\n",
        "client.on_subscribe = on_subscribe\n",
        "client.on_message = on_message\n",
        "client.on_publish = on_publish"
      ],
      "metadata": {
        "id": "FW246eaMdRPy",
        "colab": {
          "base_uri": "https://localhost:8080/"
        },
        "outputId": "b8565988-46e1-47f7-b618-ac929ad22142"
      },
      "execution_count": 15,
      "outputs": [
        {
          "output_type": "stream",
          "name": "stdout",
          "text": [
            "dioice 701021Joy# be20cd4f69c64a05991f07b1ba3a716d.s1.eu.hivemq.cloud:8883 8883\n",
            "Erro ao conectar: [Errno -2] Name or service not known\n"
          ]
        },
        {
          "output_type": "stream",
          "name": "stderr",
          "text": [
            "<ipython-input-15-01d5ed7a31d2>:40: DeprecationWarning: Callback API version 1 is deprecated, update to latest version\n",
            "  client = paho.Client(client_id=\"\", userdata=None, protocol=paho.MQTTv5)\n"
          ]
        }
      ]
    },
    {
      "cell_type": "code",
      "source": [
        "# New Antecedent/Consequent objects hold universe variables and membership\n",
        "# functions\n",
        "Erro = ctrl.Antecedent(np.arange(0,25.01, 0.01), 'Erro')\n",
        "# Custom membership functions can be built interactively with a familiar,\n",
        "# Pythonic API\n",
        "\n",
        "Erro['ZE'] = fuzzy.trapmf(Erro.universe, [0,0,0.15,0.3])\n",
        "Erro['D1'] = fuzzy.trimf(Erro.universe, [0.15,0.3,9])\n",
        "Erro['D2'] = fuzzy.trimf(Erro.universe, [0.3,9,15])\n",
        "Erro['D3'] = fuzzy.trimf(Erro.universe, [9,15,21])\n",
        "Erro['D4'] =  fuzzy.trimf(Erro.universe, [15,21,25])\n",
        "# You can see how these look with .view()\n",
        "Erro.view()\n",
        "fig = plt.gcf(); axes = fig.gca(); fig.set_size_inches(6, 2)\n",
        "axes.set_xlabel(xlabel='erro [km/h]'); axes.set_ylabel(ylabel='Pertinência $\\mu_{V}$');\n",
        "plt.legend(loc='upper right');\n",
        "plt.axhline(y=0.5, color='b', linestyle='--')"
      ],
      "metadata": {
        "id": "SNdRhtMwdYlN",
        "colab": {
          "base_uri": "https://localhost:8080/",
          "height": 255
        },
        "outputId": "f00317ae-7d5b-4bad-b4cc-12ef736743fa"
      },
      "execution_count": 11,
      "outputs": [
        {
          "output_type": "execute_result",
          "data": {
            "text/plain": [
              "<matplotlib.lines.Line2D at 0x7e5c76f10eb0>"
            ]
          },
          "metadata": {},
          "execution_count": 11
        },
        {
          "output_type": "display_data",
          "data": {
            "text/plain": [
              "<Figure size 600x200 with 1 Axes>"
            ],
            "image/png": "[encoded data removed]"
          },
          "metadata": {}
        }
      ]
    },
    {
      "cell_type": "code",
      "source": [
        "deltaErro = ctrl.Antecedent(np.arange(-25,25,0.1), 'DeltaErro')\n",
        "# faixa bem perto para nao dar overshot,  faixa grudada no 0\n",
        "# 5 faixas\n",
        "deltaErro['MN'] = fuzzy.trapmf(deltaErro.universe, [-25,-25,-1,-0.4])\n",
        "deltaErro['PN'] = fuzzy.trimf(deltaErro.universe, [-1,-0.4,0])\n",
        "deltaErro['ZE'] = fuzzy.trimf(deltaErro.universe, [-0.4, 0, 0.4])\n",
        "deltaErro['PP'] = fuzzy.trimf(deltaErro.universe, [0, 0.4, 1])\n",
        "deltaErro['MP'] = fuzzy.trapmf(deltaErro.universe, [0.4,1,25,25])\n",
        "\n",
        "deltaErro.view()\n",
        "fig = plt.gcf(); axes = fig.gca(); fig.set_size_inches(6, 2)\n",
        "axes.set_xlabel(xlabel='erro [km/h]'); axes.set_ylabel(ylabel='Pertinência $\\mu_{V}$');\n",
        "plt.legend(loc='upper right');\n",
        "plt.axhline(y=0.5, color='b', linestyle='--')\n",
        "plt.xlim(-1,1)\n"
      ],
      "metadata": {
        "id": "ZlFgUa6tdZ9j"
      },
      "execution_count": null,
      "outputs": []
    },
    {
      "cell_type": "code",
      "source": [
        "pMotor = ctrl.Consequent(np.arange(0, 90.1, 0.1), 'pMotor')\n",
        "\n",
        "pMotor['I'] = fuzzy.trapmf(pMotor.universe, [0,0,15,31.5])\n",
        "pMotor['B'] = fuzzy.trimf(pMotor.universe, [15,31.5,45])\n",
        "pMotor['M'] = fuzzy.trimf(pMotor.universe, [31.5, 45, 90])\n",
        "pMotor['A'] = fuzzy.trimf(pMotor.universe, [45, 90, 90])\n",
        "\n",
        "pMotor.view()\n",
        "[plt.gca().lines[i].set_linewidth(2) for i in range(len(plt.gca().lines))]\n",
        "\n",
        "fig = plt.gcf(); axes = fig.gca(); fig.set_size_inches(6, 2)\n",
        "axes.set_xlabel(xlabel='erro [km/h]'); axes.set_ylabel(ylabel='Pertinência $\\mu_{V}$');\n",
        "plt.legend(loc='upper right');\n",
        "plt.axhline(y=0.5, color='b', linestyle='--')"
      ],
      "metadata": {
        "id": "MpUZ8qGfdbdY"
      },
      "execution_count": null,
      "outputs": []
    },
    {
      "cell_type": "code",
      "source": [
        "R1 =  ctrl.Rule(Erro['ZE'] & deltaErro['MN'], pMotor['I'])\n",
        "R2 =  ctrl.Rule(Erro['ZE'] & deltaErro['PN'], pMotor['I'])\n",
        "R3 =  ctrl.Rule(Erro['ZE'] & deltaErro['ZE'], pMotor['I'])\n",
        "R4 =  ctrl.Rule(Erro['ZE'] & deltaErro['PP'], pMotor['I'])\n",
        "R5 =  ctrl.Rule(Erro['ZE'] & deltaErro['MP'], pMotor['I'])\n",
        "\n",
        "R6 =  ctrl.Rule(Erro['D1'] & deltaErro['MN'], pMotor['B'])\n",
        "R7 =  ctrl.Rule(Erro['D1'] & deltaErro['PN'], pMotor['B'])\n",
        "R8 =  ctrl.Rule(Erro['D1'] & deltaErro['ZE'], pMotor['I'])\n",
        "R9 =  ctrl.Rule(Erro['D1'] & deltaErro['PP'], pMotor['B'])\n",
        "R10 = ctrl.Rule(Erro['D1'] & deltaErro['MP'], pMotor['B'])\n",
        "\n",
        "R11 = ctrl.Rule(Erro['D2'] & deltaErro['MN'], pMotor['M'])\n",
        "R12 = ctrl.Rule(Erro['D2'] & deltaErro['PN'], pMotor['B'])\n",
        "R13 = ctrl.Rule(Erro['D2'] & deltaErro['ZE'], pMotor['I'])\n",
        "R14 = ctrl.Rule(Erro['D2'] & deltaErro['PP'], pMotor['B'])\n",
        "R15 = ctrl.Rule(Erro['D2'] & deltaErro['MP'], pMotor['M'])\n",
        "\n",
        "R16 = ctrl.Rule(Erro['D3'] & deltaErro['MN'], pMotor['M'])\n",
        "R17 = ctrl.Rule(Erro['D3'] & deltaErro['PN'], pMotor['M'])\n",
        "R18 = ctrl.Rule(Erro['D3'] & deltaErro['ZE'], pMotor['I'])\n",
        "R19 = ctrl.Rule(Erro['D3'] & deltaErro['PP'], pMotor['M'])\n",
        "R20 = ctrl.Rule(Erro['D3'] & deltaErro['MP'], pMotor['M'])\n",
        "\n",
        "R21 = ctrl.Rule(Erro['D4'] & deltaErro['MN'], pMotor['A'])\n",
        "R22 = ctrl.Rule(Erro['D4'] & deltaErro['PN'], pMotor['M'])\n",
        "R23 = ctrl.Rule(Erro['D4'] & deltaErro['ZE'], pMotor['I'])\n",
        "R24 = ctrl.Rule(Erro['D4'] & deltaErro['PP'], pMotor['M'])\n",
        "R25 = ctrl.Rule(Erro['D4'] & deltaErro['MP'], pMotor['A'])"
      ],
      "metadata": {
        "id": "IHBkMwJ_ddMq"
      },
      "execution_count": null,
      "outputs": []
    },
    {
      "cell_type": "code",
      "source": [
        "qtdRegras = len(Erro.terms)*len(deltaErro.terms)\n",
        "BaseRegras = [globals()[f'R{regra}'] for regra in range(1, qtdRegras +1)]"
      ],
      "metadata": {
        "id": "o_4-eAjFd1l4"
      },
      "execution_count": null,
      "outputs": []
    },
    {
      "cell_type": "code",
      "source": [
        "vermelho, verde, amarelo, azul, magenta, ciano = ['\\033[91m', '\\033[92m', '\\033[93m', '\\033[94m', '\\033[95m', '\\033[96m']\n",
        "\n",
        "tabela = []\n",
        "\n",
        "for errors in Erro.terms:\n",
        "  for deltaerror in deltaErro.terms:\n",
        "    for regra in BaseRegras:\n",
        "      antecedente = str(regra).split('IF ')[1].split(' THEN')[0].replace('AND ', '')\n",
        "      consequente = str(regra).split('IF ')[1].split(' THEN')[1].split('AND ')[0]\n",
        "\n",
        "      classificacoes = re.findall(r'\\[(.*?)\\]', (antecedente + consequente))\n",
        "      if errors == classificacoes[0] and deltaerror == classificacoes[1]:\n",
        "        tabela.append([classificacoes[0], classificacoes[1], classificacoes[2]])\n",
        "        break\n",
        "\n",
        "df = pd.DataFrame(tabela, columns=['Velocidade', 'E', 'Aceleração'])\n",
        "pivotTable = pd.DataFrame(df.pivot(index='E', columns='Velocidade', values='Aceleração').reindex(index=deltaErro.terms, columns=Erro.terms))\n",
        "pivotTable.index.name = f'{ciano}{pivotTable.index.name}\\033[0m'\n",
        "print(tabulate(pivotTable, headers='keys', tablefmt='fancy_grid', stralign='center', showindex='always'))"
      ],
      "metadata": {
        "id": "v0BLyHcPd2E1"
      },
      "execution_count": null,
      "outputs": []
    },
    {
      "cell_type": "code",
      "source": [
        "elevador_ctrl = ctrl.ControlSystemSimulation(ctrl.ControlSystem(BaseRegras))"
      ],
      "metadata": {
        "id": "ev-kwi4Wd4bd"
      },
      "execution_count": null,
      "outputs": []
    },
    {
      "cell_type": "code",
      "source": [
        "andares = [29,28,27,26]\n",
        "\n",
        "for indiceA, andarA in enumerate(andares):\n",
        "    andarAtual = andarA\n",
        "\n",
        "    for indiceD, andarD in enumerate(andares):\n",
        "        andarDeslocado = andarD\n",
        "        posicaoAtual = andarAtual\n",
        "        posicao = [andarAtual]\n",
        "        erroAltura = andarDeslocado - posicaoAtual\n",
        "\n",
        "        if erroAltura == 0:\n",
        "            # Se os andares são iguais, preencher `posicao` com o andar atual\n",
        "            posicao.extend([andarAtual] * 399)\n",
        "        else:\n",
        "            # Se os andares são diferentes, proceder com a lógica de controle\n",
        "            for t in np.arange(0.1, 3.1, 0.1):\n",
        "                potenciaMotor = t * 0.315 / 3\n",
        "                posicaoAtual = abs(posicaoAtual * (1 if erroAltura > 0 else -1) + potenciaMotor * 0.00951)\n",
        "                if round(t, 1) == round(t):\n",
        "                    posicao.append(posicaoAtual)\n",
        "\n",
        "            erro_anterior = andarDeslocado - posicaoAtual\n",
        "            for _ in range(3, 401):\n",
        "                erroAltura = andarDeslocado - posicaoAtual\n",
        "                erro_atual = abs(erroAltura)\n",
        "                elevador_ctrl.input[Erro.label] = erro_atual\n",
        "\n",
        "                deltaErro_atual = erro_anterior - erro_atual\n",
        "                elevador_ctrl.input[deltaErro.label] = deltaErro_atual\n",
        "                elevador_ctrl.compute()\n",
        "                potenciaMotor = elevador_ctrl.output['pMotor']\n",
        "                posicaoAtual = abs(posicaoAtual * 0.996 * (1 if erroAltura > 0 else -1) + potenciaMotor * 0.01)\n",
        "                posicao.append(posicaoAtual)\n",
        "                erro_anterior = erro_atual\n",
        "\n",
        "            # Limitar a lista `posicao` a 400 elementos\n",
        "            posicao = posicao[:400]\n",
        "        plt.figure(figsize=[4,3])\n",
        "        plt.plot(range(1, 401), posicao)\n",
        "        plt.title(f'Deslocamento do elevador de {indiceA +1} para {indiceD+1}')\n",
        "        plt.xlabel('Tempo')\n",
        "        plt.ylabel('Posição')\n",
        "        plt.axhline(y=andarA, color='b', linestyle='--')\n",
        "        plt.axhline(y=andarD, color='b', linestyle='--')\n",
        "        plt.axhline(y=andarD+0.15, color='r', linestyle='--')\n",
        "        plt.axhline(y=andarD-0.15, color='r', linestyle='--')\n",
        "        plt.xlim(0,400)\n",
        "        plt.show()\n",
        "\n"
      ],
      "metadata": {
        "id": "yQJznt8Qd5m6"
      },
      "execution_count": null,
      "outputs": []
    },
    {
      "cell_type": "code",
      "source": [],
      "metadata": {
        "id": "FlaFRAf_eG0y"
      },
      "execution_count": null,
      "outputs": []
    },
    {
      "cell_type": "markdown",
      "source": [
        "# Nova seção"
      ],
      "metadata": {
        "id": "slk0NJT-eNbK"
      }
    }
  ]
}